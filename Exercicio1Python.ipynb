{
  "nbformat": 4,
  "nbformat_minor": 0,
  "metadata": {
    "colab": {
      "name": "Exercicio1Python.ipynb",
      "provenance": [],
      "collapsed_sections": []
    },
    "kernelspec": {
      "name": "python3",
      "display_name": "Python 3"
    }
  },
  "cells": [
    {
      "cell_type": "code",
      "metadata": {
        "id": "U0OQbSghzE7E",
        "colab_type": "code",
        "outputId": "26f04b03-28c1-4686-9504-6849495d692d",
        "colab": {
          "base_uri": "https://localhost:8080/",
          "height": 34
        }
      },
      "source": [
        "print(\"Ola mundo\")"
      ],
      "execution_count": 0,
      "outputs": [
        {
          "output_type": "stream",
          "text": [
            "Ola mundo\n"
          ],
          "name": "stdout"
        }
      ]
    },
    {
      "cell_type": "code",
      "metadata": {
        "id": "RMSvgfLozUF2",
        "colab_type": "code",
        "outputId": "adffc8f8-5401-4739-af74-08791d1e5082",
        "colab": {
          "base_uri": "https://localhost:8080/",
          "height": 34
        }
      },
      "source": [
        "print(\"Carolina de Sousa Rosa\")"
      ],
      "execution_count": 1,
      "outputs": [
        {
          "output_type": "stream",
          "text": [
            "Carolina de Sousa Rosa\n"
          ],
          "name": "stdout"
        }
      ]
    },
    {
      "cell_type": "code",
      "metadata": {
        "id": "hGvjcTSrzajA",
        "colab_type": "code",
        "outputId": "0a939c20-3d42-4028-e6ab-2c28915a54f4",
        "colab": {
          "base_uri": "https://localhost:8080/",
          "height": 102
        }
      },
      "source": [
        "print(\"*\\n**\\n***\\n****\\n*****\")"
      ],
      "execution_count": 0,
      "outputs": [
        {
          "output_type": "stream",
          "text": [
            "*\n",
            "**\n",
            "***\n",
            "****\n",
            "*****\n"
          ],
          "name": "stdout"
        }
      ]
    },
    {
      "cell_type": "code",
      "metadata": {
        "id": "57uHbeejzquX",
        "colab_type": "code",
        "outputId": "4310c7a4-bb8f-43b1-cf07-1d54b5862848",
        "colab": {
          "base_uri": "https://localhost:8080/",
          "height": 68
        }
      },
      "source": [
        "altura = float(input(\"Altura: \"))/100\n",
        "peso = float(input(\"Peso: \"))\n",
        "print(\"IMC: \" + str(peso/(altura*altura)))"
      ],
      "execution_count": 2,
      "outputs": [
        {
          "output_type": "stream",
          "text": [
            "Altura: 150\n",
            "Peso: 85\n",
            "IMC: 37.77777777777778\n"
          ],
          "name": "stdout"
        }
      ]
    },
    {
      "cell_type": "code",
      "metadata": {
        "id": "LHsRG5ni2xYO",
        "colab_type": "code",
        "outputId": "c67925c0-4972-42f9-e1bf-9b08b658608d",
        "colab": {
          "base_uri": "https://localhost:8080/",
          "height": 85
        }
      },
      "source": [
        "x = int(2)\n",
        "y = int(3)\n",
        "print(\"x = \" + str(x))\n",
        "print(\"O valor de x + x é \" + str(x+x));\n",
        "print(\"x = \");\n",
        "print(str(x + y) + \" = \" + str(y + x));"
      ],
      "execution_count": 3,
      "outputs": [
        {
          "output_type": "stream",
          "text": [
            "x = 2\n",
            "O valor de x + x é 4\n",
            "x = \n",
            "5 = 5\n"
          ],
          "name": "stdout"
        }
      ]
    },
    {
      "cell_type": "code",
      "metadata": {
        "id": "gTPFQWqN4Omk",
        "colab_type": "code",
        "outputId": "5b1e68d5-a671-45df-a264-2c6088ed220d",
        "colab": {
          "base_uri": "https://localhost:8080/",
          "height": 34
        }
      },
      "source": [
        "print(\"A programação é aprendida escrevendo programas - Brian Kernighan\")"
      ],
      "execution_count": 0,
      "outputs": [
        {
          "output_type": "stream",
          "text": [
            "A programação é aprendida escrevendo programas - Brian Kernighan\n"
          ],
          "name": "stdout"
        }
      ]
    },
    {
      "cell_type": "code",
      "metadata": {
        "id": "3qtijTOm4TVb",
        "colab_type": "code",
        "outputId": "4c4661bf-3541-41cc-ece9-94beef1c721c",
        "colab": {
          "base_uri": "https://localhost:8080/",
          "height": 34
        }
      },
      "source": [
        "print(\"O Produto dos numeros 25 e 27 é: \" + str(25*27))"
      ],
      "execution_count": 4,
      "outputs": [
        {
          "output_type": "stream",
          "text": [
            "O Produto dos numeros 25 e 27 é: 675\n"
          ],
          "name": "stdout"
        }
      ]
    },
    {
      "cell_type": "code",
      "metadata": {
        "id": "sLrPhuxD4vTz",
        "colab_type": "code",
        "outputId": "39b33cbb-3606-4216-d58e-6881e6c3ebb0",
        "colab": {
          "base_uri": "https://localhost:8080/",
          "height": 34
        }
      },
      "source": [
        "print(\"Média aritmética 4, 12, 15 é: \" + str((4+12+15)/3))"
      ],
      "execution_count": 5,
      "outputs": [
        {
          "output_type": "stream",
          "text": [
            "Média aritmética 4, 12, 15 é: 10.333333333333334\n"
          ],
          "name": "stdout"
        }
      ]
    },
    {
      "cell_type": "code",
      "metadata": {
        "id": "f-Zqji9M5IJD",
        "colab_type": "code",
        "outputId": "ceca4567-b23b-4473-cef2-fc7e3a6c7cca",
        "colab": {
          "base_uri": "https://localhost:8080/",
          "height": 51
        }
      },
      "source": [
        "numero = input(\"Digite um numero \")\n",
        "print(\"Número digitado foi \" + numero)"
      ],
      "execution_count": 6,
      "outputs": [
        {
          "output_type": "stream",
          "text": [
            "Digite um numero 85\n",
            "Número digitado foi 85\n"
          ],
          "name": "stdout"
        }
      ]
    },
    {
      "cell_type": "code",
      "metadata": {
        "id": "Z3Ynw-mu5WGy",
        "colab_type": "code",
        "outputId": "3bacb681-9909-45b7-8836-c9367a83c3aa",
        "colab": {
          "base_uri": "https://localhost:8080/",
          "height": 85
        }
      },
      "source": [
        "primeiro = input(\"Digite o primeiro numero inteiro: \")\n",
        "segundo = input(\"Digite o segundo numero inteiro: \")\n",
        "print(\"O primeiro numero é: \" + primeiro + \"\\nO segundo numero é: \" + segundo)"
      ],
      "execution_count": 0,
      "outputs": [
        {
          "output_type": "stream",
          "text": [
            "Digite o primeiro numero inteiro: 1\n",
            "Digite o segundo numero inteiro: 2\n",
            "O primeiro numero inteiro digitado é: 1\n",
            "O segundo numero inteiro digitado é: 2\n"
          ],
          "name": "stdout"
        }
      ]
    },
    {
      "cell_type": "code",
      "metadata": {
        "id": "i_LNKDFk55sT",
        "colab_type": "code",
        "outputId": "665e8051-18b3-4c66-a49c-5c33d7812da6",
        "colab": {
          "base_uri": "https://localhost:8080/",
          "height": 68
        }
      },
      "source": [
        "numero = int(input(\"Digite um numero: \"))\n",
        "print(\"O antecessor é: \" + str(numero - 1) + \"\\nO sucessor é: \" + str(numero+1))"
      ],
      "execution_count": 7,
      "outputs": [
        {
          "output_type": "stream",
          "text": [
            "Digite um numero: 5\n",
            "O antecessor é: 4\n",
            "O sucessor é: 6\n"
          ],
          "name": "stdout"
        }
      ]
    },
    {
      "cell_type": "code",
      "metadata": {
        "id": "sdsgwbf-6UVh",
        "colab_type": "code",
        "outputId": "4313d328-a260-400b-ef27-9fc0d1101ba3",
        "colab": {
          "base_uri": "https://localhost:8080/",
          "height": 119
        }
      },
      "source": [
        "name = input(\"Digite o nome do usuário: \")\n",
        "endereco = input(\"Digite o Endereço do usuário: \")\n",
        "telefone = input(\"Digite o telefone do usuário: \")\n",
        "print(\"Nome do usuário: \" + name + \"\\nEndereço do usuário: \" + endereco + \"\\nTelefone do usuário: \" + telefone)"
      ],
      "execution_count": 8,
      "outputs": [
        {
          "output_type": "stream",
          "text": [
            "Digite o nome do usuário: carol\n",
            "Digite o Endereço do usuário: qual\n",
            "Digite o telefone do usuário: 35468987\n",
            "Nome do usuário: carol\n",
            "Endereço do usuário: qual\n",
            "Telefone do usuário: 35468987\n"
          ],
          "name": "stdout"
        }
      ]
    },
    {
      "cell_type": "code",
      "metadata": {
        "id": "uGJK4va66_N4",
        "colab_type": "code",
        "outputId": "6a94e1a6-496f-42ee-bcd1-bcf4c38b8385",
        "colab": {
          "base_uri": "https://localhost:8080/",
          "height": 68
        }
      },
      "source": [
        "primeiro = int(input(\"Digite o primeiro numero inteiro: \"))\n",
        "segundo = int(input(\"Digite o segundo numero inteiro: \"))\n",
        "print(\"Resposta da multiplicação dos dois numeros inteiros é: \" + str(primeiro*segundo))"
      ],
      "execution_count": 9,
      "outputs": [
        {
          "output_type": "stream",
          "text": [
            "Digite o primeiro numero inteiro: 1\n",
            "Digite o segundo numero inteiro: 2\n",
            "Resposta da multiplicação dos dois numeros inteiros é: 2\n"
          ],
          "name": "stdout"
        }
      ]
    },
    {
      "cell_type": "code",
      "metadata": {
        "id": "RhtTrPv57xO5",
        "colab_type": "code",
        "outputId": "3d5342fa-6d0e-4784-d66c-e865f8c316cc",
        "colab": {
          "base_uri": "https://localhost:8080/",
          "height": 51
        }
      },
      "source": [
        "real = float(input(\"Digite um numero real: \"))\n",
        "print(\"A terça parte deste numero é: \" + str(real/3))"
      ],
      "execution_count": 10,
      "outputs": [
        {
          "output_type": "stream",
          "text": [
            "Digite um numero real: 6\n",
            "A terça parte deste numero é: 2.0\n"
          ],
          "name": "stdout"
        }
      ]
    },
    {
      "cell_type": "code",
      "metadata": {
        "id": "tg4hwlB88IGJ",
        "colab_type": "code",
        "outputId": "a77ea6c5-094e-4629-8004-ae56644c8298",
        "colab": {
          "base_uri": "https://localhost:8080/",
          "height": 119
        }
      },
      "source": [
        "divid = int(input(\"Digite um numero inteiro: \"))\n",
        "div = int(input(\"Digite um numero inteiro: \"))\n",
        "quo = int(divid / div)\n",
        "rest = int(divid % div)\n",
        "print(\"Dividendo: \" + str(divid) + \"\\nDivisor: \" + str(div) + \"\\nQuociente: \" + str(quo) + \"\\nResto: \" + str(rest))"
      ],
      "execution_count": 11,
      "outputs": [
        {
          "output_type": "stream",
          "text": [
            "Digite um numero inteiro: 2\n",
            "Digite um numero inteiro: 3\n",
            "Dividendo: 2\n",
            "Divisor: 3\n",
            "Quociente: 0\n",
            "Resto: 2\n"
          ],
          "name": "stdout"
        }
      ]
    },
    {
      "cell_type": "code",
      "metadata": {
        "id": "h2COSKYMOa_H",
        "colab_type": "code",
        "outputId": "3500d048-0561-4f91-a76b-71c8d808995b",
        "colab": {
          "base_uri": "https://localhost:8080/",
          "height": 119
        }
      },
      "source": [
        "primeiro = int(input(\"Digite o primeiro inteiro: \"))\n",
        "segundo = int(input(\"Digite o segundo inteiro: \"))\n",
        "print(\"Soma: \" + str(primeiro+segundo) + \"\\nSubtração: \" + str(primeiro-segundo) + \"\\nMultiplicação: \" + str(primeiro*segundo) + \"\\nDivisão: \" + str(primeiro/segundo))"
      ],
      "execution_count": 12,
      "outputs": [
        {
          "output_type": "stream",
          "text": [
            "Digite o primeiro inteiro: 5\n",
            "Digite o segundo inteiro: 6\n",
            "Soma: 11\n",
            "Subtração: -1\n",
            "Multiplicação: 30\n",
            "Divisão: 0.8333333333333334\n"
          ],
          "name": "stdout"
        }
      ]
    },
    {
      "cell_type": "code",
      "metadata": {
        "id": "kHhe1ZckPIOr",
        "colab_type": "code",
        "outputId": "f2fb95d8-35c8-436b-8004-8e3d9f9f2d6b",
        "colab": {
          "base_uri": "https://localhost:8080/",
          "height": 102
        }
      },
      "source": [
        "primeiro = int(input(\"Digite o primeiro numero inteiro: \"))\n",
        "segundo = int(input(\"Digite o segundo numero inteiro: \"))\n",
        "terceiro = int(input(\"Digite o terceiro numero inteiro: \"))\n",
        "quarto = int(input(\"Digite o quarto numero inteiro: \"))\n",
        "print(\"Soma dos 4 numeros: \" + str(primeiro+segundo+terceiro+quarto))"
      ],
      "execution_count": 13,
      "outputs": [
        {
          "output_type": "stream",
          "text": [
            "Digite o primeiro numero inteiro: 1\n",
            "Digite o segundo numero inteiro: 2\n",
            "Digite o terceiro numero inteiro: 3\n",
            "Digite o quarto numero inteiro: 4\n",
            "Soma dos 4 numeros: 10\n"
          ],
          "name": "stdout"
        }
      ]
    },
    {
      "cell_type": "code",
      "metadata": {
        "id": "MqIzYr84PkyB",
        "colab_type": "code",
        "outputId": "41e7e977-40f0-4c54-b3aa-a5f7d082bc1a",
        "colab": {
          "base_uri": "https://localhost:8080/",
          "height": 85
        }
      },
      "source": [
        "primeiro = int(input(\"Nota 1: \"))\n",
        "segundo = int(input(\"Nota 2: \"))\n",
        "terceiro = int(input(\"Nota 3: \"))\n",
        "print(\"Media aritmetica: \" + str((primeiro+segundo+terceiro)/3))"
      ],
      "execution_count": 14,
      "outputs": [
        {
          "output_type": "stream",
          "text": [
            "Nota 1: 5\n",
            "Nota 2: 6\n",
            "Nota 3: 7\n",
            "Media aritmetica: 6.0\n"
          ],
          "name": "stdout"
        }
      ]
    },
    {
      "cell_type": "code",
      "metadata": {
        "id": "OuwG_Ko1QPMc",
        "colab_type": "code",
        "outputId": "e2e90b12-21df-447f-d162-aac8a4ccd3ad",
        "colab": {
          "base_uri": "https://localhost:8080/",
          "height": 136
        }
      },
      "source": [
        "primeiro = int(input(\"Nota 1: \"))\n",
        "p1 = int(input(\"Peso da nota 1: \"))\n",
        "segundo = int(input(\"Nota 2: \"))\n",
        "p2 = int(input(\"Peso da nota 2: \"))\n",
        "terceiro = int(input(\"Nota 3: \"))\n",
        "p3 = int(input(\"Peso da nota 3: \"))\n",
        "print(\"A media aritmetica é: \" + str(((primeiro*p1)+(segundo*p2)+(terceiro*p3))/(p1+p2+p3)))"
      ],
      "execution_count": 16,
      "outputs": [
        {
          "output_type": "stream",
          "text": [
            "Nota 1: 1\n",
            "Peso da nota 1: 2\n",
            "Nota 2: 3\n",
            "Peso da nota 2: 4\n",
            "Nota 3: 5\n",
            "Peso da nota 3: 6\n",
            "A media aritmetica é: 3.6666666666666665\n"
          ],
          "name": "stdout"
        }
      ]
    },
    {
      "cell_type": "code",
      "metadata": {
        "id": "A_iSjKLHRBmI",
        "colab_type": "code",
        "outputId": "5232811f-6029-4bbc-a2a0-a3d535f0089a",
        "colab": {
          "base_uri": "https://localhost:8080/",
          "height": 51
        }
      },
      "source": [
        "sal = int(input(\"Digite o salario do funcionario: \"))\n",
        "print(\"Salario do funcionario: \" + str(sal+(sal*0.25)))"
      ],
      "execution_count": 17,
      "outputs": [
        {
          "output_type": "stream",
          "text": [
            "Digite o salario do funcionario: 200\n",
            "Salario do funcionario: 250.0\n"
          ],
          "name": "stdout"
        }
      ]
    },
    {
      "cell_type": "code",
      "metadata": {
        "id": "zKHDe6ehRqHL",
        "colab_type": "code",
        "outputId": "b47113da-3371-44c9-ccdc-53894f28ae12",
        "colab": {
          "base_uri": "https://localhost:8080/",
          "height": 85
        }
      },
      "source": [
        "sal = int(input(\"Salario atual do funcionario: \"))\n",
        "aum = int(input(\"Percentual de aumento: \"))\n",
        "print(\"O aumento é: \" + str(sal*(aum/100)) + \"\\nO novo salario é: \" + str(sal+(sal*(aum/100))))"
      ],
      "execution_count": 18,
      "outputs": [
        {
          "output_type": "stream",
          "text": [
            "Salario atual do funcionario: 200\n",
            "Percentual de aumento: 50\n",
            "O aumento é: 100.0\n",
            "O novo salario é: 300.0\n"
          ],
          "name": "stdout"
        }
      ]
    },
    {
      "cell_type": "code",
      "metadata": {
        "id": "22arZtgqSd_n",
        "colab_type": "code",
        "outputId": "5e0282ce-c860-4fe0-b789-23264ae3380f",
        "colab": {
          "base_uri": "https://localhost:8080/",
          "height": 51
        }
      },
      "source": [
        "sal = int(input(\"Digite o salario base: \"))\n",
        "print(\"O salario a receber: \" + str((sal+(sal*0.05))-(sal*0.07)))"
      ],
      "execution_count": 19,
      "outputs": [
        {
          "output_type": "stream",
          "text": [
            "Digite o salario base: 250\n",
            "O salario a receber: 245.0\n"
          ],
          "name": "stdout"
        }
      ]
    },
    {
      "cell_type": "code",
      "metadata": {
        "id": "dJ3-gRv4TQha",
        "colab_type": "code",
        "outputId": "f1ab80ce-ef38-42f8-9df5-b654b289ff52",
        "colab": {
          "base_uri": "https://localhost:8080/",
          "height": 51
        }
      },
      "source": [
        "sal = int(input(\"Salario base do funcionario: \"))\n",
        "print(\"O salario a receber: \" + str((sal+50)-(sal*0.1)))"
      ],
      "execution_count": 20,
      "outputs": [
        {
          "output_type": "stream",
          "text": [
            "Salario base do funcionario: 234\n",
            "O salario a receber: 260.6\n"
          ],
          "name": "stdout"
        }
      ]
    },
    {
      "cell_type": "code",
      "metadata": {
        "id": "PSxOf9_8TsXw",
        "colab_type": "code",
        "outputId": "1a9ea167-3223-4e97-87ef-168a304e7593",
        "colab": {
          "base_uri": "https://localhost:8080/",
          "height": 85
        }
      },
      "source": [
        "dep = int(input(\"Valor do deposito: \"))\n",
        "jur = int(input(\"Taxa de Juros: \"))\n",
        "print(\"Rendimento: \" + str(dep*(jur/100)) + \"\\nNovo valor: \" + str(dep+(dep*(jur/100))))"
      ],
      "execution_count": 21,
      "outputs": [
        {
          "output_type": "stream",
          "text": [
            "Valor do deposito: 250\n",
            "Taxa de Juros: 10\n",
            "Rendimento: 25.0\n",
            "Novo valor: 275.0\n"
          ],
          "name": "stdout"
        }
      ]
    },
    {
      "cell_type": "code",
      "metadata": {
        "id": "aD_R2kHtUjbN",
        "colab_type": "code",
        "outputId": "2d1b55e5-e67d-45aa-9756-50662de57966",
        "colab": {
          "base_uri": "https://localhost:8080/",
          "height": 68
        }
      },
      "source": [
        "b = float(input(\"Digite a base do triangulo: \"))\n",
        "alt = float(input(\"Digite a altura do triangulo: \"))\n",
        "print(\"A área do triangulo é:: \" + str(b*alt))"
      ],
      "execution_count": 22,
      "outputs": [
        {
          "output_type": "stream",
          "text": [
            "Digite a base do triangulo: 10\n",
            "Digite a altura do triangulo: 10\n",
            "A área do triangulo é:: 100.0\n"
          ],
          "name": "stdout"
        }
      ]
    },
    {
      "cell_type": "code",
      "metadata": {
        "id": "eDOuS4CNU7sQ",
        "colab_type": "code",
        "outputId": "ee9239e9-878a-40ab-cacc-15ae4c494206",
        "colab": {
          "base_uri": "https://localhost:8080/",
          "height": 85
        }
      },
      "source": [
        "r = float(input(\"Valor do raio do Circulo\"))\n",
        "print(\"O diametro do circulo é: \" + str(r*2) + \"\\nA circunferencia do circulo é: \" + str(2*3.14*r) + \"\\nA area do circulo é: \" + str(3.14*(r*r)))"
      ],
      "execution_count": 23,
      "outputs": [
        {
          "output_type": "stream",
          "text": [
            "Valor do raio do Circulo10\n",
            "O diametro do circulo é: 20.0\n",
            "A circunferencia do circulo é: 62.800000000000004\n",
            "A area do circulo é: 314.0\n"
          ],
          "name": "stdout"
        }
      ]
    },
    {
      "cell_type": "code",
      "metadata": {
        "id": "dZon4KADYozz",
        "colab_type": "code",
        "outputId": "64ae8ca7-439c-44e0-84b7-4b5b0ce13b3b",
        "colab": {
          "base_uri": "https://localhost:8080/",
          "height": 85
        }
      },
      "source": [
        "import math\n",
        "numero = int(input(\"Digite um numero: \"))\n",
        "if(numero>0):\n",
        "\tprint(\"Quadrado: \" + str(numero* numero) + \"\\nCubo: \" + \t\tstr(numero*numero*numero) + \"\\nRaiz: \" + str(math.sqrt(numero)))\n",
        "else:\n",
        "\tprint(\"Menor ou igual a 0\")"
      ],
      "execution_count": 25,
      "outputs": [
        {
          "output_type": "stream",
          "text": [
            "Digite um numero: 10\n",
            "Quadrado: 100\n",
            "Cubo: 1000\n",
            "Raiz: 3.1622776601683795\n"
          ],
          "name": "stdout"
        }
      ]
    },
    {
      "cell_type": "code",
      "metadata": {
        "id": "ENMq6PD6aIjW",
        "colab_type": "code",
        "outputId": "8ace034b-a5d3-4291-e322-801de47b2e9a",
        "colab": {
          "base_uri": "https://localhost:8080/",
          "height": 68
        }
      },
      "source": [
        "numero1 = int(input(\"Digite um numero positivo: \"))\n",
        "numero2 = int(input(\"Digite um numero positivo\"))\n",
        "if(numero1>0):\n",
        "\tprint(str(numero1) + \" elevado a \" + str(numero2) + \" é: \" + str(numero1**numero2))\n",
        "else:\n",
        "\tprint(\"Numero digitado menor ou igual a 0\")"
      ],
      "execution_count": 26,
      "outputs": [
        {
          "output_type": "stream",
          "text": [
            "Digite um numero positivo: 4\n",
            "Digite um numero positivo5\n",
            "4 elevado a 5 é: 1024\n"
          ],
          "name": "stdout"
        }
      ]
    },
    {
      "cell_type": "code",
      "metadata": {
        "id": "qpYRo7tIa_Q8",
        "colab_type": "code",
        "outputId": "5dbad13d-476a-4249-9402-00a02d81a6de",
        "colab": {
          "base_uri": "https://localhost:8080/",
          "height": 102
        }
      },
      "source": [
        "pes = int(input(\"Digite a medida em pés: \"))\n",
        "pol = 12*pes\n",
        "jar = pes/3\n",
        "mil = (pes/3)/1760\n",
        "print(\"Medidas convertidas: \\nPolegadas: \" + str(12*pes) + \"\\nJardas: \" + str(pes/3) + \"\\nMilhas: \" + str((pes/3)/1760))"
      ],
      "execution_count": 27,
      "outputs": [
        {
          "output_type": "stream",
          "text": [
            "Digite a medida em pés: 10\n",
            "Medidas convertidas: \n",
            "Polegadas: 120\n",
            "Jardas: 3.3333333333333335\n",
            "Milhas: 0.001893939393939394\n"
          ],
          "name": "stdout"
        }
      ]
    },
    {
      "cell_type": "code",
      "metadata": {
        "id": "C4sGpXhvcf7U",
        "colab_type": "code",
        "colab": {}
      },
      "source": [
        ""
      ],
      "execution_count": 0,
      "outputs": []
    }
  ]
}